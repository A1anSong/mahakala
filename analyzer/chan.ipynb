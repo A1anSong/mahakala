{
 "cells": [
  {
   "cell_type": "code",
   "execution_count": 1,
   "id": "29b02608-7d8d-4385-bfc4-1d332093ccc9",
   "metadata": {},
   "outputs": [],
   "source": [
    "import mplfinance as mpf\n",
    "\n",
    "import analyze.chan as chan\n",
    "import draw.draw as draw"
   ]
  },
  {
   "cell_type": "code",
   "execution_count": 2,
   "id": "abcb81cf-3e10-4ddc-8114-c8eb34db58f8",
   "metadata": {},
   "outputs": [],
   "source": [
    "exchange = 'binance_future'\n",
    "symbol = 'INJUSDT'\n",
    "interval = '1h'\n",
    "df = chan.get_data(exchange, symbol, interval)\n",
    "df = df[:-1]\n",
    "df = chan.process_data(df)"
   ]
  },
  {
   "cell_type": "code",
   "execution_count": null,
   "outputs": [],
   "source": [
    "addplot_all = draw.add_plots(df)\n",
    "all_lines = draw.add_lines(df)\n",
    "rectangles = draw.add_rectangles(df)\n",
    "fig_scale = (len(df) + 1) / 100\n",
    "# 绘制图表\n",
    "if len(rectangles) > 0:\n",
    "    mpf.plot(df, figscale=fig_scale, type='candle', style='binance', title=symbol, ylabel='Price (₮)', volume=True, ylabel_lower='Volume', volume_panel=2, addplot=addplot_all, alines=all_lines, fill_between=rectangles, warn_too_much_data=1000)\n",
    "else:\n",
    "    mpf.plot(df, figscale=fig_scale, type='candle', style='binance', title=symbol, ylabel='Price (₮)', volume=True, ylabel_lower='Volume', volume_panel=2, addplot=addplot_all, alines=all_lines, warn_too_much_data=1000)"
   ],
   "metadata": {
    "collapsed": false
   },
   "id": "a1b961ea2049ad39"
  }
 ],
 "metadata": {
  "kernelspec": {
   "display_name": "Python 3 (ipykernel)",
   "language": "python",
   "name": "python3"
  },
  "language_info": {
   "codemirror_mode": {
    "name": "ipython",
    "version": 3
   },
   "file_extension": ".py",
   "mimetype": "text/x-python",
   "name": "python",
   "nbconvert_exporter": "python",
   "pygments_lexer": "ipython3",
   "version": "3.11.3"
  }
 },
 "nbformat": 4,
 "nbformat_minor": 5
}
